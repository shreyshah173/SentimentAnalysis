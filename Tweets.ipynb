{
 "cells": [
  {
   "cell_type": "code",
   "execution_count": 1,
   "metadata": {},
   "outputs": [],
   "source": [
    "import pandas as pd\n",
    "import numpy as np\n",
    "from sklearn.model_selection import train_test_split\n",
    "from sklearn.feature_extraction.text import CountVectorizer\n",
    "from collections import Counter\n",
    "from sklearn.metrics import accuracy_score , confusion_matrix\n"
   ]
  },
  {
   "cell_type": "code",
   "execution_count": 2,
   "metadata": {},
   "outputs": [],
   "source": [
    "import torch\n",
    "import torch.nn as nn\n",
    "from torch.utils.data import Dataset , DataLoader"
   ]
  },
  {
   "cell_type": "code",
   "execution_count": 21,
   "metadata": {},
   "outputs": [],
   "source": [
    "import seaborn as sns\n",
    "import matplotlib.pyplot as plt"
   ]
  },
  {
   "cell_type": "code",
   "execution_count": 4,
   "metadata": {},
   "outputs": [
    {
     "data": {
      "text/html": [
       "<div>\n",
       "<style scoped>\n",
       "    .dataframe tbody tr th:only-of-type {\n",
       "        vertical-align: middle;\n",
       "    }\n",
       "\n",
       "    .dataframe tbody tr th {\n",
       "        vertical-align: top;\n",
       "    }\n",
       "\n",
       "    .dataframe thead th {\n",
       "        text-align: right;\n",
       "    }\n",
       "</style>\n",
       "<table border=\"1\" class=\"dataframe\">\n",
       "  <thead>\n",
       "    <tr style=\"text-align: right;\">\n",
       "      <th></th>\n",
       "      <th>textID</th>\n",
       "      <th>text</th>\n",
       "      <th>selected_text</th>\n",
       "      <th>sentiment</th>\n",
       "    </tr>\n",
       "  </thead>\n",
       "  <tbody>\n",
       "    <tr>\n",
       "      <th>0</th>\n",
       "      <td>cb774db0d1</td>\n",
       "      <td>I`d have responded, if I were going</td>\n",
       "      <td>I`d have responded, if I were going</td>\n",
       "      <td>neutral</td>\n",
       "    </tr>\n",
       "    <tr>\n",
       "      <th>1</th>\n",
       "      <td>549e992a42</td>\n",
       "      <td>Sooo SAD I will miss you here in San Diego!!!</td>\n",
       "      <td>Sooo SAD</td>\n",
       "      <td>negative</td>\n",
       "    </tr>\n",
       "    <tr>\n",
       "      <th>2</th>\n",
       "      <td>088c60f138</td>\n",
       "      <td>my boss is bullying me...</td>\n",
       "      <td>bullying me</td>\n",
       "      <td>negative</td>\n",
       "    </tr>\n",
       "    <tr>\n",
       "      <th>3</th>\n",
       "      <td>9642c003ef</td>\n",
       "      <td>what interview! leave me alone</td>\n",
       "      <td>leave me alone</td>\n",
       "      <td>negative</td>\n",
       "    </tr>\n",
       "    <tr>\n",
       "      <th>4</th>\n",
       "      <td>358bd9e861</td>\n",
       "      <td>Sons of ****, why couldn`t they put them on t...</td>\n",
       "      <td>Sons of ****,</td>\n",
       "      <td>negative</td>\n",
       "    </tr>\n",
       "  </tbody>\n",
       "</table>\n",
       "</div>"
      ],
      "text/plain": [
       "       textID                                               text  \\\n",
       "0  cb774db0d1                I`d have responded, if I were going   \n",
       "1  549e992a42      Sooo SAD I will miss you here in San Diego!!!   \n",
       "2  088c60f138                          my boss is bullying me...   \n",
       "3  9642c003ef                     what interview! leave me alone   \n",
       "4  358bd9e861   Sons of ****, why couldn`t they put them on t...   \n",
       "\n",
       "                         selected_text sentiment  \n",
       "0  I`d have responded, if I were going   neutral  \n",
       "1                             Sooo SAD  negative  \n",
       "2                          bullying me  negative  \n",
       "3                       leave me alone  negative  \n",
       "4                        Sons of ****,  negative  "
      ]
     },
     "execution_count": 4,
     "metadata": {},
     "output_type": "execute_result"
    }
   ],
   "source": [
    "df = pd.read_csv('Tweets.csv')\n",
    "df.head()               "
   ]
  },
  {
   "cell_type": "code",
   "execution_count": 5,
   "metadata": {},
   "outputs": [
    {
     "data": {
      "text/plain": [
       "textID           0\n",
       "text             1\n",
       "selected_text    1\n",
       "sentiment        0\n",
       "dtype: int64"
      ]
     },
     "execution_count": 5,
     "metadata": {},
     "output_type": "execute_result"
    }
   ],
   "source": [
    "df.isnull().sum()"
   ]
  },
  {
   "cell_type": "code",
   "execution_count": 6,
   "metadata": {},
   "outputs": [],
   "source": [
    "df = df.dropna()"
   ]
  },
  {
   "cell_type": "code",
   "execution_count": 7,
   "metadata": {},
   "outputs": [
    {
     "data": {
      "text/plain": [
       "textID           0\n",
       "text             0\n",
       "selected_text    0\n",
       "sentiment        0\n",
       "dtype: int64"
      ]
     },
     "execution_count": 7,
     "metadata": {},
     "output_type": "execute_result"
    }
   ],
   "source": [
    "df.isnull().sum()"
   ]
  },
  {
   "cell_type": "code",
   "execution_count": 8,
   "metadata": {},
   "outputs": [
    {
     "data": {
      "text/html": [
       "<div>\n",
       "<style scoped>\n",
       "    .dataframe tbody tr th:only-of-type {\n",
       "        vertical-align: middle;\n",
       "    }\n",
       "\n",
       "    .dataframe tbody tr th {\n",
       "        vertical-align: top;\n",
       "    }\n",
       "\n",
       "    .dataframe thead th {\n",
       "        text-align: right;\n",
       "    }\n",
       "</style>\n",
       "<table border=\"1\" class=\"dataframe\">\n",
       "  <thead>\n",
       "    <tr style=\"text-align: right;\">\n",
       "      <th></th>\n",
       "      <th>textID</th>\n",
       "      <th>text</th>\n",
       "      <th>selected_text</th>\n",
       "      <th>sentiment</th>\n",
       "      <th>class</th>\n",
       "    </tr>\n",
       "  </thead>\n",
       "  <tbody>\n",
       "    <tr>\n",
       "      <th>0</th>\n",
       "      <td>cb774db0d1</td>\n",
       "      <td>I`d have responded, if I were going</td>\n",
       "      <td>I`d have responded, if I were going</td>\n",
       "      <td>neutral</td>\n",
       "      <td>1</td>\n",
       "    </tr>\n",
       "    <tr>\n",
       "      <th>1</th>\n",
       "      <td>549e992a42</td>\n",
       "      <td>Sooo SAD I will miss you here in San Diego!!!</td>\n",
       "      <td>Sooo SAD</td>\n",
       "      <td>negative</td>\n",
       "      <td>0</td>\n",
       "    </tr>\n",
       "    <tr>\n",
       "      <th>2</th>\n",
       "      <td>088c60f138</td>\n",
       "      <td>my boss is bullying me...</td>\n",
       "      <td>bullying me</td>\n",
       "      <td>negative</td>\n",
       "      <td>0</td>\n",
       "    </tr>\n",
       "    <tr>\n",
       "      <th>3</th>\n",
       "      <td>9642c003ef</td>\n",
       "      <td>what interview! leave me alone</td>\n",
       "      <td>leave me alone</td>\n",
       "      <td>negative</td>\n",
       "      <td>0</td>\n",
       "    </tr>\n",
       "    <tr>\n",
       "      <th>4</th>\n",
       "      <td>358bd9e861</td>\n",
       "      <td>Sons of ****, why couldn`t they put them on t...</td>\n",
       "      <td>Sons of ****,</td>\n",
       "      <td>negative</td>\n",
       "      <td>0</td>\n",
       "    </tr>\n",
       "  </tbody>\n",
       "</table>\n",
       "</div>"
      ],
      "text/plain": [
       "       textID                                               text  \\\n",
       "0  cb774db0d1                I`d have responded, if I were going   \n",
       "1  549e992a42      Sooo SAD I will miss you here in San Diego!!!   \n",
       "2  088c60f138                          my boss is bullying me...   \n",
       "3  9642c003ef                     what interview! leave me alone   \n",
       "4  358bd9e861   Sons of ****, why couldn`t they put them on t...   \n",
       "\n",
       "                         selected_text sentiment  class  \n",
       "0  I`d have responded, if I were going   neutral      1  \n",
       "1                             Sooo SAD  negative      0  \n",
       "2                          bullying me  negative      0  \n",
       "3                       leave me alone  negative      0  \n",
       "4                        Sons of ****,  negative      0  "
      ]
     },
     "execution_count": 8,
     "metadata": {},
     "output_type": "execute_result"
    }
   ],
   "source": [
    "cat_id = {'neutral':1,'positive':2,'negative':0}\n",
    "df['class'] = df['sentiment'].map(cat_id)\n",
    "df.head()"
   ]
  },
  {
   "cell_type": "code",
   "execution_count": 9,
   "metadata": {},
   "outputs": [],
   "source": [
    "Batch_size = 512\n",
    "Epochs = 80"
   ]
  },
  {
   "cell_type": "code",
   "execution_count": 10,
   "metadata": {},
   "outputs": [],
   "source": [
    "X = df['text'].values\n",
    "y = df['class'].values"
   ]
  },
  {
   "cell_type": "code",
   "execution_count": 11,
   "metadata": {},
   "outputs": [],
   "source": [
    "X_train,X_test,y_train,y_test = train_test_split(X,y,test_size=0.15,random_state=42)"
   ]
  },
  {
   "cell_type": "code",
   "execution_count": 12,
   "metadata": {},
   "outputs": [],
   "source": [
    "ohe = CountVectorizer()\n",
    "X_train = ohe.fit_transform(X_train)\n",
    "X_test = ohe.transform(X_test)"
   ]
  },
  {
   "cell_type": "code",
   "execution_count": 13,
   "metadata": {},
   "outputs": [
    {
     "data": {
      "text/plain": [
       "<23358x23907 sparse matrix of type '<class 'numpy.int64'>'\n",
       "\twith 267204 stored elements in Compressed Sparse Row format>"
      ]
     },
     "execution_count": 13,
     "metadata": {},
     "output_type": "execute_result"
    }
   ],
   "source": [
    "X_train"
   ]
  },
  {
   "cell_type": "code",
   "execution_count": 14,
   "metadata": {},
   "outputs": [],
   "source": [
    "class SentimentData(Dataset):\n",
    "    def __init__(self,X,y):\n",
    "        super().__init__()\n",
    "        self.X = torch.Tensor(X.toarray())\n",
    "        self.y = torch.Tensor(y).type(torch.LongTensor)\n",
    "        self.length = len(self.X)\n",
    "\n",
    "    def __len__(self):\n",
    "        return self.length\n",
    "    \n",
    "    def __getitem__(self, index):\n",
    "        return self.X[index], self.y[index]"
   ]
  },
  {
   "cell_type": "code",
   "execution_count": 15,
   "metadata": {},
   "outputs": [],
   "source": [
    "train_ds = SentimentData(X=X_train,y=y_train)\n",
    "test_ds = SentimentData(X_test,y_test)"
   ]
  },
  {
   "cell_type": "code",
   "execution_count": 16,
   "metadata": {},
   "outputs": [],
   "source": [
    "train_loader = DataLoader(dataset=train_ds,batch_size=Batch_size,shuffle=True)\n",
    "test_loader = DataLoader(dataset=test_ds,batch_size=15000)"
   ]
  },
  {
   "cell_type": "code",
   "execution_count": 17,
   "metadata": {},
   "outputs": [],
   "source": [
    "class SentimentModel(nn.Module):\n",
    "    def __init__(self,NUM_FEATURES,NUM_CLASSES,HIDDEN=10):\n",
    "        super().__init__()\n",
    "        self.linear = nn.Linear(NUM_FEATURES,HIDDEN)\n",
    "        self.linear2= nn.Linear(HIDDEN,NUM_CLASSES)\n",
    "        self.relu = nn.ReLU()\n",
    "        self.log_softmax= nn.LogSoftmax(dim=1)\n",
    "    \n",
    "    def forward(self,x):\n",
    "        x = self.linear(x)\n",
    "        x = self.relu(x)\n",
    "        x = self.linear2(x)\n",
    "        x = self.log_softmax(x)\n",
    "        return x"
   ]
  },
  {
   "cell_type": "code",
   "execution_count": 18,
   "metadata": {},
   "outputs": [],
   "source": [
    "model = SentimentModel(NUM_FEATURES=X_train.shape[1],NUM_CLASSES=3)\n",
    "criterion = nn.CrossEntropyLoss()\n",
    "optimizer = torch.optim.AdamW(model.parameters())"
   ]
  },
  {
   "cell_type": "code",
   "execution_count": 19,
   "metadata": {},
   "outputs": [
    {
     "name": "stdout",
     "output_type": "stream",
     "text": [
      "Line 0 , Loss : 50.6296124458313\n",
      "Line 1 , Loss : 46.4247105717659\n",
      "Line 2 , Loss : 41.80967938899994\n",
      "Line 3 , Loss : 37.27424091100693\n",
      "Line 4 , Loss : 33.30828821659088\n",
      "Line 5 , Loss : 29.928759157657623\n",
      "Line 6 , Loss : 27.14585369825363\n",
      "Line 7 , Loss : 24.77044215798378\n",
      "Line 8 , Loss : 22.772142380475998\n",
      "Line 9 , Loss : 21.037288278341293\n",
      "Line 10 , Loss : 19.574050575494766\n",
      "Line 11 , Loss : 18.270321518182755\n",
      "Line 12 , Loss : 17.064119160175323\n",
      "Line 13 , Loss : 16.041335999965668\n",
      "Line 14 , Loss : 15.12220412492752\n",
      "Line 15 , Loss : 14.290034383535385\n",
      "Line 16 , Loss : 13.548844546079636\n",
      "Line 17 , Loss : 12.869413286447525\n",
      "Line 18 , Loss : 12.28149826824665\n",
      "Line 19 , Loss : 11.693582743406296\n",
      "Line 20 , Loss : 11.176350876688957\n",
      "Line 21 , Loss : 10.720909416675568\n",
      "Line 22 , Loss : 10.296330630779266\n",
      "Line 23 , Loss : 9.867652103304863\n",
      "Line 24 , Loss : 9.51821482181549\n",
      "Line 25 , Loss : 9.170478016138077\n",
      "Line 26 , Loss : 8.825797840952873\n",
      "Line 27 , Loss : 8.525770500302315\n",
      "Line 28 , Loss : 8.244800627231598\n",
      "Line 29 , Loss : 7.99739833176136\n",
      "Line 30 , Loss : 7.740451216697693\n",
      "Line 31 , Loss : 7.510854586958885\n",
      "Line 32 , Loss : 7.282794505357742\n",
      "Line 33 , Loss : 7.083164885640144\n",
      "Line 34 , Loss : 6.897821240127087\n",
      "Line 35 , Loss : 6.733188711106777\n",
      "Line 36 , Loss : 6.540254592895508\n",
      "Line 37 , Loss : 6.358693346381187\n",
      "Line 38 , Loss : 6.197851054370403\n",
      "Line 39 , Loss : 6.048960313200951\n",
      "Line 40 , Loss : 5.931527256965637\n",
      "Line 41 , Loss : 5.776308603584766\n",
      "Line 42 , Loss : 5.648486755788326\n",
      "Line 43 , Loss : 5.508858062326908\n",
      "Line 44 , Loss : 5.390601545572281\n",
      "Line 45 , Loss : 5.287232510745525\n",
      "Line 46 , Loss : 5.161265507340431\n",
      "Line 47 , Loss : 5.048844911158085\n",
      "Line 48 , Loss : 4.9669937044382095\n",
      "Line 49 , Loss : 4.842270992696285\n",
      "Line 50 , Loss : 4.745770491659641\n",
      "Line 51 , Loss : 4.672941192984581\n",
      "Line 52 , Loss : 4.576889403164387\n",
      "Line 53 , Loss : 4.497778557240963\n",
      "Line 54 , Loss : 4.407935597002506\n",
      "Line 55 , Loss : 4.35235033929348\n",
      "Line 56 , Loss : 4.262998230755329\n",
      "Line 57 , Loss : 4.179152246564627\n",
      "Line 58 , Loss : 4.116102017462254\n",
      "Line 59 , Loss : 4.0493644289672375\n",
      "Line 60 , Loss : 3.9762256741523743\n",
      "Line 61 , Loss : 3.9011024832725525\n",
      "Line 62 , Loss : 3.842946469783783\n",
      "Line 63 , Loss : 3.7795078232884407\n",
      "Line 64 , Loss : 3.727700162678957\n",
      "Line 65 , Loss : 3.66438364982605\n",
      "Line 66 , Loss : 3.606192495673895\n",
      "Line 67 , Loss : 3.568400166928768\n",
      "Line 68 , Loss : 3.5073610320687294\n",
      "Line 69 , Loss : 3.4587181098759174\n",
      "Line 70 , Loss : 3.3961742110550404\n",
      "Line 71 , Loss : 3.3550003953278065\n",
      "Line 72 , Loss : 3.303320985287428\n",
      "Line 73 , Loss : 3.2504955530166626\n",
      "Line 74 , Loss : 3.203630156815052\n",
      "Line 75 , Loss : 3.168372806161642\n",
      "Line 76 , Loss : 3.1123222783207893\n",
      "Line 77 , Loss : 3.082944590598345\n",
      "Line 78 , Loss : 3.0621928833425045\n",
      "Line 79 , Loss : 2.9933922328054905\n"
     ]
    }
   ],
   "source": [
    "train_losses = []\n",
    "for e in range(Epochs):\n",
    "    curr_loss = 0\n",
    "    for xb,yb in train_loader:\n",
    "        optimizer.zero_grad()\n",
    "        y_pred_log = model(xb)\n",
    "        loss =  criterion(y_pred_log,yb.long())\n",
    "\n",
    "        curr_loss+= loss.item()\n",
    "        loss.backward()\n",
    "        optimizer.step()\n",
    "    train_losses.append(curr_loss)\n",
    "    print(f\"Line {e} , Loss : {curr_loss}\")"
   ]
  },
  {
   "cell_type": "code",
   "execution_count": 24,
   "metadata": {},
   "outputs": [
    {
     "data": {
      "image/png": "[encoded data removed]",
      "text/plain": [
       "<Figure size 640x480 with 1 Axes>"
      ]
     },
     "metadata": {},
     "output_type": "display_data"
    }
   ],
   "source": [
    "sns.lineplot(x=list(range(len(train_losses))),y=train_losses)\n",
    "plt.show()"
   ]
  },
  {
   "cell_type": "code",
   "execution_count": 25,
   "metadata": {},
   "outputs": [],
   "source": [
    "with torch.no_grad():\n",
    "    for xb,yb in test_loader:\n",
    "        y_test_pred = model(xb)\n",
    "        y_test_pred = torch.argmax(y_test_pred,dim=1)\n",
    "\n",
    "y_test_pred_np = y_test_pred.squeeze().cpu().numpy()"
   ]
  },
  {
   "cell_type": "code",
   "execution_count": 26,
   "metadata": {},
   "outputs": [
    {
     "data": {
      "text/plain": [
       "0.631004366812227"
      ]
     },
     "execution_count": 26,
     "metadata": {},
     "output_type": "execute_result"
    }
   ],
   "source": [
    "acc = accuracy_score(y_pred=y_test_pred_np,y_true=y_test)\n",
    "acc"
   ]
  },
  {
   "cell_type": "code",
   "execution_count": 28,
   "metadata": {},
   "outputs": [
    {
     "name": "stdout",
     "output_type": "stream",
     "text": [
      "naive classifier 40.85395439107229\n"
     ]
    }
   ],
   "source": [
    "most_common_cnt = Counter(y_test).most_common()[0][1]\n",
    "print(\"naive classifier\" , (most_common_cnt/len(y_test) * 100 ))"
   ]
  },
  {
   "cell_type": "code",
   "execution_count": 29,
   "metadata": {},
   "outputs": [
    {
     "data": {
      "text/plain": [
       "<Axes: >"
      ]
     },
     "execution_count": 29,
     "metadata": {},
     "output_type": "execute_result"
    },
    {
     "data": {
      "image/png": "[encoded data removed]",
      "text/plain": [
       "<Figure size 640x480 with 2 Axes>"
      ]
     },
     "metadata": {},
     "output_type": "display_data"
    }
   ],
   "source": [
    "sns.heatmap(confusion_matrix(y_test_pred_np,y_test), annot=True,fmt=\".0f\")"
   ]
  },
  {
   "cell_type": "code",
   "execution_count": null,
   "metadata": {},
   "outputs": [],
   "source": []
  }
 ],
 "metadata": {
  "kernelspec": {
   "display_name": "Python 3",
   "language": "python",
   "name": "python3"
  },
  "language_info": {
   "codemirror_mode": {
    "name": "ipython",
    "version": 3
   },
   "file_extension": ".py",
   "mimetype": "text/x-python",
   "name": "python",
   "nbconvert_exporter": "python",
   "pygments_lexer": "ipython3",
   "version": "3.11.0"
  }
 },
 "nbformat": 4,
 "nbformat_minor": 2
}
